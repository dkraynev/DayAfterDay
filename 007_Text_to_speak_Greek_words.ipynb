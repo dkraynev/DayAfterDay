{
  "nbformat": 4,
  "nbformat_minor": 0,
  "metadata": {
    "colab": {
      "provenance": [],
      "authorship_tag": "ABX9TyPBy7Mic6i6zosW5dNr4+gw",
      "include_colab_link": true
    },
    "kernelspec": {
      "name": "python3",
      "display_name": "Python 3"
    },
    "language_info": {
      "name": "python"
    }
  },
  "cells": [
    {
      "cell_type": "markdown",
      "metadata": {
        "id": "view-in-github",
        "colab_type": "text"
      },
      "source": [
        "<a href=\"https://colab.research.google.com/github/dkraynev/DayAfterDay/blob/main/007_Text_to_speak_Greek_words.ipynb\" target=\"_parent\"><img src=\"https://colab.research.google.com/assets/colab-badge.svg\" alt=\"Open In Colab\"/></a>"
      ]
    },
    {
      "cell_type": "code",
      "source": [
        "!pip install gtts\n",
        "!pip install pydub"
      ],
      "metadata": {
        "colab": {
          "base_uri": "https://localhost:8080/"
        },
        "id": "JZAARe8bX5v5",
        "outputId": "770e6622-4178-40e3-94ea-c9688a0be251"
      },
      "execution_count": 4,
      "outputs": [
        {
          "output_type": "stream",
          "name": "stdout",
          "text": [
            "Requirement already satisfied: gtts in c:\\users\\dimitry kraynev\\appdata\\local\\programs\\python\\python313\\lib\\site-packages (2.5.4)\n",
            "Requirement already satisfied: requests<3,>=2.27 in c:\\users\\dimitry kraynev\\appdata\\local\\programs\\python\\python313\\lib\\site-packages (from gtts) (2.32.3)\n",
            "Requirement already satisfied: click<8.2,>=7.1 in c:\\users\\dimitry kraynev\\appdata\\local\\programs\\python\\python313\\lib\\site-packages (from gtts) (8.1.8)\n",
            "Requirement already satisfied: colorama in c:\\users\\dimitry kraynev\\appdata\\local\\programs\\python\\python313\\lib\\site-packages (from click<8.2,>=7.1->gtts) (0.4.6)\n",
            "Requirement already satisfied: charset-normalizer<4,>=2 in c:\\users\\dimitry kraynev\\appdata\\local\\programs\\python\\python313\\lib\\site-packages (from requests<3,>=2.27->gtts) (3.4.1)\n",
            "Requirement already satisfied: idna<4,>=2.5 in c:\\users\\dimitry kraynev\\appdata\\local\\programs\\python\\python313\\lib\\site-packages (from requests<3,>=2.27->gtts) (3.10)\n",
            "Requirement already satisfied: urllib3<3,>=1.21.1 in c:\\users\\dimitry kraynev\\appdata\\local\\programs\\python\\python313\\lib\\site-packages (from requests<3,>=2.27->gtts) (2.4.0)\n",
            "Requirement already satisfied: certifi>=2017.4.17 in c:\\users\\dimitry kraynev\\appdata\\local\\programs\\python\\python313\\lib\\site-packages (from requests<3,>=2.27->gtts) (2025.4.26)\n",
            "Requirement already satisfied: pydub in c:\\users\\dimitry kraynev\\appdata\\local\\programs\\python\\python313\\lib\\site-packages (0.25.1)\n"
          ]
        }
      ]
    },
    {
      "cell_type": "code",
      "execution_count": 8,
      "metadata": {
        "id": "3U782S6XJXW4",
        "colab": {
          "base_uri": "https://localhost:8080/",
          "height": 238
        },
        "outputId": "d30f38d4-6045-4d27-8a7b-f7acc9932363"
      },
      "outputs": [
        {
          "output_type": "error",
          "ename": "ValueError",
          "evalue": "not enough values to unpack (expected 2, got 1)",
          "traceback": [
            "\u001b[31m---------------------------------------------------------------------------\u001b[39m",
            "\u001b[31mValueError\u001b[39m                                Traceback (most recent call last)",
            "\u001b[36mCell\u001b[39m\u001b[36m \u001b[39m\u001b[32mIn[8]\u001b[39m\u001b[32m, line 25\u001b[39m\n\u001b[32m     22\u001b[39m audio_segments = []\n\u001b[32m     24\u001b[39m \u001b[38;5;66;03m#for idx, (el_word, ru_word) in enumerate(pairs):\u001b[39;00m\n\u001b[32m---> \u001b[39m\u001b[32m25\u001b[39m \u001b[38;5;28;01mfor\u001b[39;00m idx, (el_word, ru_word) \u001b[38;5;129;01min\u001b[39;00m \u001b[38;5;28menumerate\u001b[39m(pairs):\n\u001b[32m     26\u001b[39m     \u001b[38;5;66;03m# Russian translation\u001b[39;00m\n\u001b[32m     27\u001b[39m     ru_tts = gTTS(text=ru_word, lang=\u001b[33m'\u001b[39m\u001b[33mru\u001b[39m\u001b[33m'\u001b[39m)\n\u001b[32m     28\u001b[39m     ru_filename = os.path.join(output_dir, \u001b[33mf\u001b[39m\u001b[33m'\u001b[39m\u001b[33mru_word_\u001b[39m\u001b[38;5;132;01m{\u001b[39;00midx\u001b[38;5;132;01m}\u001b[39;00m\u001b[33m.mp3\u001b[39m\u001b[33m'\u001b[39m)\n",
            "\u001b[31mValueError\u001b[39m: not enough values to unpack (expected 2, got 1)"
          ]
        }
      ],
      "source": [
        "from gtts import gTTS\n",
        "from pydub import AudioSegment\n",
        "import os\n",
        "from io import BytesIO\n",
        "\n",
        "output_dir = r'G:\\My Drive\\002\\007'\n",
        "os.makedirs(output_dir, exist_ok=True)\n",
        "\n",
        "os.environ['PATH'] += os.pathsep + r'C:\\ffmpeg\\bin'\n",
        "\n",
        "pairs = [\n",
        "    {'ναι': 'да'},\n",
        "    {'όχι': 'нет'},\n",
        "    (\"γεια\", \"привет\"),\n",
        "    (\"καλημέρα\", \"доброе утро\"),\n",
        "    (\"καλησπέρα\", \"добрый вечер\")\n",
        "]\n",
        "\n",
        "pause_between_ru_el = AudioSegment.silent(duration=2000) # 2 sec.\n",
        "pause_between_pairs = AudioSegment.silent(duration=2500) # 2,5 sec.\n",
        "\n",
        "audio_segments = []\n",
        "\n",
        "#for idx, (el_word, ru_word) in enumerate(pairs):\n",
        "for idx, (el_word, ru_word) in enumerate(pairs):\n",
        "    # Russian translation\n",
        "    ru_tts = gTTS(text=ru_word, lang='ru')\n",
        "    ru_filename = os.path.join(output_dir, f'ru_word_{idx}.mp3')\n",
        "    ru_tts.save(ru_filename)\n",
        "    with open(ru_filename, 'rb') as f:\n",
        "        ru_bytes = BytesIO(f.read())\n",
        "    ru_segment = AudioSegment.from_file(ru_bytes, format='mp3')\n",
        "    audio_segments.append(ru_segment)\n",
        "    os.remove(ru_filename)\n",
        "\n",
        "    audio_segments.append(pause_between_ru_el)\n",
        "\n",
        "    # Greek word\n",
        "    el_tts = gTTS(text=el_word, lang='el')\n",
        "    el_filename = os.path.join(output_dir, f'el_word_{idx}.mp3')\n",
        "    el_tts.save(el_filename)\n",
        "    with open(el_filename, 'rb') as f:\n",
        "        el_bytes = BytesIO(f.read())\n",
        "    el_segment = AudioSegment.from_file(el_bytes, format='mp3')\n",
        "    os.remove(el_filename)\n",
        "\n",
        "    # Add pause after each pair (and last word)\n",
        "    audio_segments.append(pause_between_pairs)\n",
        "\n",
        "# Combine everything into one mp3\n",
        "output = audio_segments[0]\n",
        "for segment in audio_segments[1:]:\n",
        "    output += segment\n",
        "\n",
        "output_filename = os.path.join(output_dir, 'russian_then_greek_words_varied_pauses.mp3')\n",
        "output.export(output_filename, format='mp3')\n",
        "print(f'Done: {output_filename}')"
      ]
    },
    {
      "cell_type": "code",
      "source": [
        "pairs"
      ],
      "metadata": {
        "colab": {
          "base_uri": "https://localhost:8080/"
        },
        "id": "p-OZp3E7Fbi5",
        "outputId": "9fe20844-b0c9-4afc-a84b-2292129511dd"
      },
      "execution_count": 7,
      "outputs": [
        {
          "output_type": "execute_result",
          "data": {
            "text/plain": [
              "[{'ναι': 'да'},\n",
              " {'όχι': 'нет'},\n",
              " ('γεια', 'привет'),\n",
              " ('καλημέρα', 'доброе утро'),\n",
              " ('καλησπέρα', 'добрый вечер')]"
            ]
          },
          "metadata": {},
          "execution_count": 7
        }
      ]
    }
  ]
}