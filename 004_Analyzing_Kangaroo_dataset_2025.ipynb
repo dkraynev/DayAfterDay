{
  "nbformat": 4,
  "nbformat_minor": 0,
  "metadata": {
    "colab": {
      "provenance": [],
      "authorship_tag": "ABX9TyPDQ08v34gEay4Z5l9FQOla",
      "include_colab_link": true
    },
    "kernelspec": {
      "name": "python3",
      "display_name": "Python 3"
    },
    "language_info": {
      "name": "python"
    }
  },
  "cells": [
    {
      "cell_type": "markdown",
      "metadata": {
        "id": "view-in-github",
        "colab_type": "text"
      },
      "source": [
        "<a href=\"https://colab.research.google.com/github/dkraynev/DayAfterDay/blob/main/004_Analyzing_Kangaroo_dataset_2025.ipynb\" target=\"_parent\"><img src=\"https://colab.research.google.com/assets/colab-badge.svg\" alt=\"Open In Colab\"/></a>"
      ]
    },
    {
      "cell_type": "code",
      "source": [
        "pip install pdfplumber"
      ],
      "metadata": {
        "colab": {
          "base_uri": "https://localhost:8080/"
        },
        "id": "VLhC31ZDh7vj",
        "outputId": "e2daf0b4-2444-4ae5-bcee-57b0fd58ce33"
      },
      "execution_count": 3,
      "outputs": [
        {
          "output_type": "stream",
          "name": "stdout",
          "text": [
            "Requirement already satisfied: pdfplumber in c:\\users\\dimitry kraynev\\appdata\\local\\programs\\python\\python312\\lib\\site-packages (0.11.6)\n",
            "Requirement already satisfied: pdfminer.six==20250327 in c:\\users\\dimitry kraynev\\appdata\\local\\programs\\python\\python312\\lib\\site-packages (from pdfplumber) (20250327)\n",
            "Requirement already satisfied: Pillow>=9.1 in c:\\users\\dimitry kraynev\\appdata\\local\\programs\\python\\python312\\lib\\site-packages (from pdfplumber) (11.1.0)\n",
            "Requirement already satisfied: pypdfium2>=4.18.0 in c:\\users\\dimitry kraynev\\appdata\\local\\programs\\python\\python312\\lib\\site-packages (from pdfplumber) (4.30.1)\n",
            "Requirement already satisfied: charset-normalizer>=2.0.0 in c:\\users\\dimitry kraynev\\appdata\\local\\programs\\python\\python312\\lib\\site-packages (from pdfminer.six==20250327->pdfplumber) (3.4.1)\n",
            "Requirement already satisfied: cryptography>=36.0.0 in c:\\users\\dimitry kraynev\\appdata\\local\\programs\\python\\python312\\lib\\site-packages (from pdfminer.six==20250327->pdfplumber) (44.0.2)\n",
            "Requirement already satisfied: cffi>=1.12 in c:\\users\\dimitry kraynev\\appdata\\local\\programs\\python\\python312\\lib\\site-packages (from cryptography>=36.0.0->pdfminer.six==20250327->pdfplumber) (1.17.1)\n",
            "Requirement already satisfied: pycparser in c:\\users\\dimitry kraynev\\appdata\\local\\programs\\python\\python312\\lib\\site-packages (from cffi>=1.12->cryptography>=36.0.0->pdfminer.six==20250327->pdfplumber) (2.22)\n",
            "Note: you may need to restart the kernel to use updated packages.\n"
          ]
        }
      ]
    },
    {
      "cell_type": "code",
      "source": [
        "import re\n",
        "import warnings\n",
        "import pdfplumber\n",
        "import pandas as pd\n",
        "\n",
        "# Отключаем варнинги, поскольку они не влияют на извлечение текста\n",
        "warnings.filterwarnings('ignore', message='CropBox missing from /Page')\n"
      ],
      "metadata": {
        "id": "rrJUo9mJhbde"
      },
      "execution_count": 6,
      "outputs": []
    }
  ]
}