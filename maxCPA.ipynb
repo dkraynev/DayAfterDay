{
  "nbformat": 4,
  "nbformat_minor": 0,
  "metadata": {
    "colab": {
      "provenance": [],
      "authorship_tag": "ABX9TyNuPeKdlDu6oEzbV7x4xl/M",
      "include_colab_link": true
    },
    "kernelspec": {
      "name": "python3",
      "display_name": "Python 3"
    },
    "language_info": {
      "name": "python"
    }
  },
  "cells": [
    {
      "cell_type": "markdown",
      "metadata": {
        "id": "view-in-github",
        "colab_type": "text"
      },
      "source": [
        "<a href=\"https://colab.research.google.com/github/dkraynev/DayAfterDay/blob/main/maxCPA.ipynb\" target=\"_parent\"><img src=\"https://colab.research.google.com/assets/colab-badge.svg\" alt=\"Open In Colab\"/></a>"
      ]
    },
    {
      "cell_type": "code",
      "execution_count": 2,
      "metadata": {
        "colab": {
          "base_uri": "https://localhost:8080/"
        },
        "id": "ojOntNAEeAtr",
        "outputId": "b696d6a0-3fea-4da3-e29b-a11db9d27424"
      },
      "outputs": [
        {
          "output_type": "stream",
          "name": "stdout",
          "text": [
            "Drive already mounted at /content/drive; to attempt to forcibly remount, call drive.mount(\"/content/drive\", force_remount=True).\n"
          ]
        }
      ],
      "source": [
        "from google.colab import drive\n",
        "drive.mount('/content/drive')"
      ]
    },
    {
      "cell_type": "code",
      "source": [
        "import pandas as pd\n",
        "import numpy as np\n",
        "\n",
        "pd.options.display.float_format = '{:.1f}'.format"
      ],
      "metadata": {
        "id": "InKaYDTHe3NR"
      },
      "execution_count": 3,
      "outputs": []
    },
    {
      "cell_type": "code",
      "source": [
        "ngr_path = '/content/drive/MyDrive/001/025_maxCPA/NGR_Congo_2025-01-01.csv'\n",
        "commissions_path = '/content/drive/MyDrive/001/025_maxCPA/Commissions_report_filtered.csv'\n",
        "\n",
        "ngr_df = pd.read_csv(ngr_path)\n",
        "commissions_df = pd.read_csv(commissions_path)"
      ],
      "metadata": {
        "id": "lZwJb_uDf-V8"
      },
      "execution_count": 15,
      "outputs": []
    }
  ]
}