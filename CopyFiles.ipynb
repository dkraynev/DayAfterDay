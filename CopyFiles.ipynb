{
  "nbformat": 4,
  "nbformat_minor": 0,
  "metadata": {
    "colab": {
      "provenance": [],
      "authorship_tag": "ABX9TyNMPQSTfUpZhNSB1nYTXfk5",
      "include_colab_link": true
    },
    "kernelspec": {
      "name": "python3",
      "display_name": "Python 3"
    },
    "language_info": {
      "name": "python"
    }
  },
  "cells": [
    {
      "cell_type": "markdown",
      "metadata": {
        "id": "view-in-github",
        "colab_type": "text"
      },
      "source": [
        "<a href=\"https://colab.research.google.com/github/dkraynev/DayAfterDay/blob/main/CopyFiles.ipynb\" target=\"_parent\"><img src=\"https://colab.research.google.com/assets/colab-badge.svg\" alt=\"Open In Colab\"/></a>"
      ]
    },
    {
      "cell_type": "code",
      "execution_count": 6,
      "metadata": {
        "colab": {
          "base_uri": "https://localhost:8080/"
        },
        "id": "0yEp4SdgKQ1n",
        "outputId": "c5a525da-0cb7-4300-cf14-18d3958479f1"
      },
      "outputs": [
        {
          "output_type": "stream",
          "name": "stdout",
          "text": [
            "✅ Создан файл: 164.sql\n",
            "✅ Создан файл: 165.sql\n",
            "✅ Создан файл: 166.sql\n",
            "✅ Создан файл: 167.sql\n",
            "✅ Создан файл: 168.sql\n",
            "✅ Создан файл: 169.sql\n",
            "✅ Создан файл: 170.sql\n",
            "✅ Создан файл: 171.sql\n",
            "✅ Создан файл: 172.sql\n",
            "✅ Создан файл: 173.sql\n",
            "✅ Создан файл: 174.sql\n",
            "✅ Создан файл: 175.sql\n",
            "✅ Создан файл: 176.sql\n",
            "✅ Создан файл: 177.sql\n",
            "✅ Создан файл: 178.sql\n",
            "✅ Создан файл: 179.sql\n",
            "✅ Создан файл: 180.sql\n",
            "✅ Создан файл: 181.sql\n",
            "✅ Создан файл: 182.sql\n",
            "✅ Создан файл: 183.sql\n",
            "✅ Создан файл: 184.sql\n",
            "✅ Создан файл: 185.sql\n",
            "✅ Создан файл: 186.sql\n",
            "✅ Создан файл: 187.sql\n",
            "✅ Создан файл: 188.sql\n",
            "✅ Создан файл: 189.sql\n",
            "✅ Создан файл: 190.sql\n",
            "✅ Создан файл: 191.sql\n",
            "✅ Создан файл: 192.sql\n",
            "✅ Создан файл: 193.sql\n",
            "✅ Создан файл: 194.sql\n",
            "✅ Создан файл: 195.sql\n",
            "✅ Создан файл: 196.sql\n",
            "✅ Создан файл: 197.sql\n",
            "✅ Создан файл: 198.sql\n",
            "✅ Создан файл: 199.sql\n"
          ]
        }
      ],
      "source": [
        "import shutil\n",
        "import os\n",
        "\n",
        "initial_file = '163.sql'\n",
        "start_number = 164\n",
        "end_number = 199\n",
        "\n",
        "os.chdir(r'G:\\Мой диск\\002 Education\\005 LeetCode\\06 SQL')\n",
        "\n",
        "for i in range(start_number, end_number + 1):\n",
        "    new_file = f'{i}.sql'\n",
        "    shutil.copy(initial_file, new_file)\n",
        "    print(f\"✅ Создан файл: {new_file}\")"
      ]
    },
    {
      "cell_type": "code",
      "source": [],
      "metadata": {
        "id": "XqirXpBQRkAv"
      },
      "execution_count": null,
      "outputs": []
    }
  ]
}