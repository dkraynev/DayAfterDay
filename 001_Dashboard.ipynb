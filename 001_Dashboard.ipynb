{
  "nbformat": 4,
  "nbformat_minor": 0,
  "metadata": {
    "colab": {
      "provenance": [],
      "authorship_tag": "ABX9TyPj2IkqVH9QFtlI58JRr6xt",
      "include_colab_link": true
    },
    "kernelspec": {
      "name": "python3",
      "display_name": "Python 3"
    },
    "language_info": {
      "name": "python"
    }
  },
  "cells": [
    {
      "cell_type": "markdown",
      "metadata": {
        "id": "view-in-github",
        "colab_type": "text"
      },
      "source": [
        "<a href=\"https://colab.research.google.com/github/dkraynev/DayAfterDay/blob/main/001_Dashboard.ipynb\" target=\"_parent\"><img src=\"https://colab.research.google.com/assets/colab-badge.svg\" alt=\"Open In Colab\"/></a>"
      ]
    },
    {
      "cell_type": "code",
      "source": [
        "!pip install flask_caching"
      ],
      "metadata": {
        "colab": {
          "base_uri": "https://localhost:8080/"
        },
        "id": "hT5gZ4SAywjz",
        "outputId": "b58e0642-5b0a-44fa-b83e-17cf8cf896e0"
      },
      "execution_count": null,
      "outputs": [
        {
          "output_type": "stream",
          "name": "stdout",
          "text": [
            "Requirement already satisfied: flask_caching in c:\\users\\dimitry kraynev\\appdata\\local\\programs\\python\\python312\\lib\\site-packages (2.3.0)\n",
            "Requirement already satisfied: cachelib<0.10.0,>=0.9.0 in c:\\users\\dimitry kraynev\\appdata\\local\\programs\\python\\python312\\lib\\site-packages (from flask_caching) (0.9.0)\n",
            "Requirement already satisfied: Flask in c:\\users\\dimitry kraynev\\appdata\\local\\programs\\python\\python312\\lib\\site-packages (from flask_caching) (3.0.3)\n",
            "Requirement already satisfied: Werkzeug>=3.0.0 in c:\\users\\dimitry kraynev\\appdata\\local\\programs\\python\\python312\\lib\\site-packages (from Flask->flask_caching) (3.0.6)\n",
            "Requirement already satisfied: Jinja2>=3.1.2 in c:\\users\\dimitry kraynev\\appdata\\local\\programs\\python\\python312\\lib\\site-packages (from Flask->flask_caching) (3.1.5)\n",
            "Requirement already satisfied: itsdangerous>=2.1.2 in c:\\users\\dimitry kraynev\\appdata\\local\\programs\\python\\python312\\lib\\site-packages (from Flask->flask_caching) (2.2.0)\n",
            "Requirement already satisfied: click>=8.1.3 in c:\\users\\dimitry kraynev\\appdata\\local\\programs\\python\\python312\\lib\\site-packages (from Flask->flask_caching) (8.1.8)\n",
            "Requirement already satisfied: blinker>=1.6.2 in c:\\users\\dimitry kraynev\\appdata\\local\\programs\\python\\python312\\lib\\site-packages (from Flask->flask_caching) (1.9.0)\n",
            "Requirement already satisfied: colorama in c:\\users\\dimitry kraynev\\appdata\\local\\programs\\python\\python312\\lib\\site-packages (from click>=8.1.3->Flask->flask_caching) (0.4.6)\n",
            "Requirement already satisfied: MarkupSafe>=2.0 in c:\\users\\dimitry kraynev\\appdata\\local\\programs\\python\\python312\\lib\\site-packages (from Jinja2>=3.1.2->Flask->flask_caching) (3.0.2)\n"
          ]
        }
      ]
    },
    {
      "cell_type": "code",
      "source": [
        "!pip install flask"
      ],
      "metadata": {
        "colab": {
          "base_uri": "https://localhost:8080/"
        },
        "id": "EB95GEgIzWst",
        "outputId": "012de1e0-7d50-4434-f652-06e5a4f33c91"
      },
      "execution_count": null,
      "outputs": [
        {
          "output_type": "stream",
          "name": "stdout",
          "text": [
            "Requirement already satisfied: flask in c:\\users\\dimitry kraynev\\appdata\\local\\programs\\python\\python312\\lib\\site-packages (3.0.3)\n",
            "Requirement already satisfied: Werkzeug>=3.0.0 in c:\\users\\dimitry kraynev\\appdata\\local\\programs\\python\\python312\\lib\\site-packages (from flask) (3.0.6)\n",
            "Requirement already satisfied: Jinja2>=3.1.2 in c:\\users\\dimitry kraynev\\appdata\\local\\programs\\python\\python312\\lib\\site-packages (from flask) (3.1.5)\n",
            "Requirement already satisfied: itsdangerous>=2.1.2 in c:\\users\\dimitry kraynev\\appdata\\local\\programs\\python\\python312\\lib\\site-packages (from flask) (2.2.0)\n",
            "Requirement already satisfied: click>=8.1.3 in c:\\users\\dimitry kraynev\\appdata\\local\\programs\\python\\python312\\lib\\site-packages (from flask) (8.1.8)\n",
            "Requirement already satisfied: blinker>=1.6.2 in c:\\users\\dimitry kraynev\\appdata\\local\\programs\\python\\python312\\lib\\site-packages (from flask) (1.9.0)\n",
            "Requirement already satisfied: colorama in c:\\users\\dimitry kraynev\\appdata\\local\\programs\\python\\python312\\lib\\site-packages (from click>=8.1.3->flask) (0.4.6)\n",
            "Requirement already satisfied: MarkupSafe>=2.0 in c:\\users\\dimitry kraynev\\appdata\\local\\programs\\python\\python312\\lib\\site-packages (from Jinja2>=3.1.2->flask) (3.0.2)\n"
          ]
        }
      ]
    },
    {
      "cell_type": "code",
      "source": [
        "!pip install dash"
      ],
      "metadata": {
        "colab": {
          "base_uri": "https://localhost:8080/"
        },
        "id": "HcEx7fhPzuej",
        "outputId": "52d6c0bf-9a11-417e-b48c-6afc6230d7db"
      },
      "execution_count": null,
      "outputs": [
        {
          "output_type": "stream",
          "name": "stdout",
          "text": [
            "Requirement already satisfied: dash in c:\\users\\dimitry kraynev\\appdata\\local\\programs\\python\\python312\\lib\\site-packages (2.18.2)\n",
            "Requirement already satisfied: Flask<3.1,>=1.0.4 in c:\\users\\dimitry kraynev\\appdata\\local\\programs\\python\\python312\\lib\\site-packages (from dash) (3.0.3)\n",
            "Requirement already satisfied: Werkzeug<3.1 in c:\\users\\dimitry kraynev\\appdata\\local\\programs\\python\\python312\\lib\\site-packages (from dash) (3.0.6)\n",
            "Requirement already satisfied: plotly>=5.0.0 in c:\\users\\dimitry kraynev\\appdata\\local\\programs\\python\\python312\\lib\\site-packages (from dash) (6.0.0)\n",
            "Requirement already satisfied: dash-html-components==2.0.0 in c:\\users\\dimitry kraynev\\appdata\\local\\programs\\python\\python312\\lib\\site-packages (from dash) (2.0.0)\n",
            "Requirement already satisfied: dash-core-components==2.0.0 in c:\\users\\dimitry kraynev\\appdata\\local\\programs\\python\\python312\\lib\\site-packages (from dash) (2.0.0)\n",
            "Requirement already satisfied: dash-table==5.0.0 in c:\\users\\dimitry kraynev\\appdata\\local\\programs\\python\\python312\\lib\\site-packages (from dash) (5.0.0)\n",
            "Requirement already satisfied: importlib-metadata in c:\\users\\dimitry kraynev\\appdata\\local\\programs\\python\\python312\\lib\\site-packages (from dash) (8.6.1)\n",
            "Requirement already satisfied: typing-extensions>=4.1.1 in c:\\users\\dimitry kraynev\\appdata\\local\\programs\\python\\python312\\lib\\site-packages (from dash) (4.12.2)\n",
            "Requirement already satisfied: requests in c:\\users\\dimitry kraynev\\appdata\\local\\programs\\python\\python312\\lib\\site-packages (from dash) (2.32.3)\n",
            "Requirement already satisfied: retrying in c:\\users\\dimitry kraynev\\appdata\\local\\programs\\python\\python312\\lib\\site-packages (from dash) (1.3.4)\n",
            "Requirement already satisfied: nest-asyncio in c:\\users\\dimitry kraynev\\appdata\\local\\programs\\python\\python312\\lib\\site-packages (from dash) (1.6.0)\n",
            "Requirement already satisfied: setuptools in c:\\users\\dimitry kraynev\\appdata\\local\\programs\\python\\python312\\lib\\site-packages (from dash) (75.8.0)\n",
            "Requirement already satisfied: Jinja2>=3.1.2 in c:\\users\\dimitry kraynev\\appdata\\local\\programs\\python\\python312\\lib\\site-packages (from Flask<3.1,>=1.0.4->dash) (3.1.5)\n",
            "Requirement already satisfied: itsdangerous>=2.1.2 in c:\\users\\dimitry kraynev\\appdata\\local\\programs\\python\\python312\\lib\\site-packages (from Flask<3.1,>=1.0.4->dash) (2.2.0)\n",
            "Requirement already satisfied: click>=8.1.3 in c:\\users\\dimitry kraynev\\appdata\\local\\programs\\python\\python312\\lib\\site-packages (from Flask<3.1,>=1.0.4->dash) (8.1.8)\n",
            "Requirement already satisfied: blinker>=1.6.2 in c:\\users\\dimitry kraynev\\appdata\\local\\programs\\python\\python312\\lib\\site-packages (from Flask<3.1,>=1.0.4->dash) (1.9.0)\n",
            "Requirement already satisfied: narwhals>=1.15.1 in c:\\users\\dimitry kraynev\\appdata\\local\\programs\\python\\python312\\lib\\site-packages (from plotly>=5.0.0->dash) (1.25.0)\n",
            "Requirement already satisfied: packaging in c:\\users\\dimitry kraynev\\appdata\\local\\programs\\python\\python312\\lib\\site-packages (from plotly>=5.0.0->dash) (24.2)\n",
            "Requirement already satisfied: MarkupSafe>=2.1.1 in c:\\users\\dimitry kraynev\\appdata\\local\\programs\\python\\python312\\lib\\site-packages (from Werkzeug<3.1->dash) (3.0.2)\n",
            "Requirement already satisfied: zipp>=3.20 in c:\\users\\dimitry kraynev\\appdata\\local\\programs\\python\\python312\\lib\\site-packages (from importlib-metadata->dash) (3.21.0)\n",
            "Requirement already satisfied: charset-normalizer<4,>=2 in c:\\users\\dimitry kraynev\\appdata\\local\\programs\\python\\python312\\lib\\site-packages (from requests->dash) (3.4.1)\n",
            "Requirement already satisfied: idna<4,>=2.5 in c:\\users\\dimitry kraynev\\appdata\\local\\programs\\python\\python312\\lib\\site-packages (from requests->dash) (3.10)\n",
            "Requirement already satisfied: urllib3<3,>=1.21.1 in c:\\users\\dimitry kraynev\\appdata\\local\\programs\\python\\python312\\lib\\site-packages (from requests->dash) (2.3.0)\n",
            "Requirement already satisfied: certifi>=2017.4.17 in c:\\users\\dimitry kraynev\\appdata\\local\\programs\\python\\python312\\lib\\site-packages (from requests->dash) (2024.12.14)\n",
            "Requirement already satisfied: six>=1.7.0 in c:\\users\\dimitry kraynev\\appdata\\local\\programs\\python\\python312\\lib\\site-packages (from retrying->dash) (1.17.0)\n",
            "Requirement already satisfied: colorama in c:\\users\\dimitry kraynev\\appdata\\local\\programs\\python\\python312\\lib\\site-packages (from click>=8.1.3->Flask<3.1,>=1.0.4->dash) (0.4.6)\n"
          ]
        }
      ]
    },
    {
      "cell_type": "code",
      "execution_count": null,
      "metadata": {
        "id": "aNelN5jkujK6"
      },
      "outputs": [],
      "source": [
        "import pandas as pd\n",
        "import numpy as np\n",
        "import plotly.express as px\n",
        "import plotly.graph_objects as go\n",
        "from datetime import date, datetime, timedelta\n",
        "from dateutil.relativedelta import relativedelta\n",
        "import requests\n",
        "import io\n",
        "from io import StringIO\n",
        "from flask_caching import Cache\n",
        "from flask import Flask, jsonify, request\n",
        "import dash\n",
        "import dash_bootstrap_components as dbc\n",
        "from dash import dcc, html, Dash\n",
        "from dash_bootstrap_templates import load_figure_template\n",
        "from dash.dependencies import Output, Input, State\n",
        "import traceback"
      ]
    },
    {
      "cell_type": "code",
      "source": [
        "# decorator\n",
        "def measure_time(label=None):\n",
        "    def decorator(func):\n",
        "        def wrapper(*args, **kwargs):\n",
        "            start = time.perf_counter()\n",
        "            result = func(*args, **kwargs)\n",
        "            end = tiem.perf_counter()\n",
        "            elapsed = end - start\n",
        "            name = label if label else func.__name__\n",
        "            print(f\"[DEBUG] Функция'{name}' заняла {elapsed:.2f} секунд\")\n",
        "            return result\n",
        "        return wrapper\n",
        "    return decorator"
      ],
      "metadata": {
        "id": "Drhhkeyj4jSW"
      },
      "execution_count": null,
      "outputs": []
    },
    {
      "cell_type": "code",
      "source": [
        "GEO={'US': 'USA', 'CA': 'Canada', 'ME': 'Mexico'}\n",
        "\n",
        "year_begin_date = datetime(2025, 1, 1)\n",
        "filtering_date= datetime(2025, 2, 10)"
      ],
      "metadata": {
        "id": "7bPjgx2b1AdZ"
      },
      "execution_count": null,
      "outputs": []
    },
    {
      "cell_type": "code",
      "source": [
        "tracking = pd.read_csv(r'C:\\Datasets\\tracking.csv', delimiter=',', low_memory=False)"
      ],
      "metadata": {
        "id": "Ee7WfZyo4JQU"
      },
      "execution_count": null,
      "outputs": []
    },
    {
      "cell_type": "code",
      "source": [
        "def load_ngr_date(file_path, start_date, end_date, brand_name=None):\n",
        "    df = pd.DataFrame()\n",
        "    start_date = pd.to_date_time(start_date)\n",
        "    end_date = pd.to_datetime(end_date)\n",
        "    current_date = start_date\n",
        "\n",
        "    while current_date <= end_date:\n",
        "        if brand_name:\n",
        "            try:\n",
        "                df_new = pd.read_csv(filepath.format(brand_name, current_date.strftime('%Y-%m')), low_memory=False)\n",
        "                df = pd.concat([df, df_new])\n",
        "                del df_new\n",
        "            except Exception as e:\n",
        "                    print(f'Faled to load data for {brand_name} at {current_date.strftime('%Y-%m')}: {e}')\n",
        "        else:\n",
        "            for brand in GEO.values():\n",
        "                try:\n",
        "                    df_new = pd.read_csv(file_path.format(brand, current_date.strftime('%Y-%m')), low_memory=False)\n",
        "                    df = pd.cncat([df, df_new])\n",
        "                    del df_new\n",
        "                except Exception as e:\n",
        "                    print(f'Failed to load for {brand} at {current_date.strftime('%Y-%m')}: {e}')\n",
        "    return df"
      ],
      "metadata": {
        "id": "Lhs_Zpp1F4VV"
      },
      "execution_count": 25,
      "outputs": []
    }
  ]
}