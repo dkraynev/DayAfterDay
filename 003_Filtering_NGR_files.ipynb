{
  "nbformat": 4,
  "nbformat_minor": 0,
  "metadata": {
    "colab": {
      "provenance": [],
      "authorship_tag": "ABX9TyPHmXGiNgZfu12C21w6GLyw",
      "include_colab_link": true
    },
    "kernelspec": {
      "name": "python3",
      "display_name": "Python 3"
    },
    "language_info": {
      "name": "python"
    }
  },
  "cells": [
    {
      "cell_type": "markdown",
      "metadata": {
        "id": "view-in-github",
        "colab_type": "text"
      },
      "source": [
        "<a href=\"https://colab.research.google.com/github/dkraynev/DayAfterDay/blob/main/003_Filtering_NGR_files.ipynb\" target=\"_parent\"><img src=\"https://colab.research.google.com/assets/colab-badge.svg\" alt=\"Open In Colab\"/></a>"
      ]
    },
    {
      "cell_type": "code",
      "execution_count": 6,
      "metadata": {
        "id": "YhyQ-WzydJlw"
      },
      "outputs": [],
      "source": [
        "import pandas as pd\n",
        "from pathlib import Path\n",
        "\n",
        "cutoff_date = pd.to_datetime('2025-03-31')\n",
        "\n",
        "file_paths = [\n",
        "    r'G:\\My Drive\\001\\Datasets\\NGR\\NGR_MW_2025.csv'\n",
        "]\n",
        "\n",
        "for file_path in file_paths:\n",
        "    df = pd.read_csv(file_path, low_memory=False)\n",
        "    df['RevenueDate'] = pd.to_datetime(df['RevenueDate'], errors='coerce')\n",
        "    df = df[df['RevenueDate'] <= cutoff_date]"
      ]
    }
  ]
}