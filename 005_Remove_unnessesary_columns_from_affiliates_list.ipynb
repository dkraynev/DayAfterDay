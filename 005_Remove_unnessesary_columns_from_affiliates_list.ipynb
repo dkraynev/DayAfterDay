{
  "nbformat": 4,
  "nbformat_minor": 0,
  "metadata": {
    "colab": {
      "provenance": [],
      "authorship_tag": "ABX9TyNLxeSzpIJYuf7FvOEPkpS3",
      "include_colab_link": true
    },
    "kernelspec": {
      "name": "python3",
      "display_name": "Python 3"
    },
    "language_info": {
      "name": "python"
    }
  },
  "cells": [
    {
      "cell_type": "markdown",
      "metadata": {
        "id": "view-in-github",
        "colab_type": "text"
      },
      "source": [
        "<a href=\"https://colab.research.google.com/github/dkraynev/DayAfterDay/blob/main/005_Remove_unnessesary_columns_from_affiliates_list.ipynb\" target=\"_parent\"><img src=\"https://colab.research.google.com/assets/colab-badge.svg\" alt=\"Open In Colab\"/></a>"
      ]
    },
    {
      "cell_type": "code",
      "execution_count": 2,
      "metadata": {
        "id": "eQU2_puROcJK"
      },
      "outputs": [],
      "source": [
        "import pandas as pd\n",
        "\n",
        "# Path to the source CSV file\n",
        "file_path = r'G:\\My Drive\\002\\005\\Affiliates_list.csv'\n",
        "\n",
        "# Read the dataset\n",
        "df = pd.read_csv(file_path)\n",
        "\n",
        "# List of columns to remove\n",
        "columns_to_remove = [\n",
        "    'AffiliateType_CE', 'CPA_CE', 'Revshare_CE', 'PeriodRevshare_CE',\n",
        "    'unifyBrand', 'PlanType', 'CPA_Parsed', 'Revshare_Parsed', 'RevsharePeriod'\n",
        "]\n",
        "\n",
        "# Remove the specified columns if they exist\n",
        "df = df.drop(columns=[col for col in columns_to_remove if col in df.columns])\n",
        "\n",
        "# Overwrite the original CSV file\n",
        "df.to_csv(file_path, index=False)"
      ]
    },
    {
      "cell_type": "code",
      "source": [
        "import pandas as pd\n",
        "\n",
        "file_path = r'G:\\My Drive\\002\\005\\Affiliates_list.csv'\n",
        "\n",
        "df =  pd.read_csv(file_path)\n",
        "\n",
        "columns_to_remove = ['AffiliateType_CE', 'CPA_CE']\n",
        "\n",
        "df = df.drop(columns=[col for col in columns_to_remove if col in df.columns])\n",
        "\n",
        "df.to_csv(file_path, index=False)"
      ],
      "metadata": {
        "id": "1MJiTbe9R2Is"
      },
      "execution_count": 3,
      "outputs": []
    }
  ]
}