{
  "nbformat": 4,
  "nbformat_minor": 0,
  "metadata": {
    "colab": {
      "provenance": [],
      "authorship_tag": "ABX9TyOhSSDhwH9ug6mID5ZMMkUn",
      "include_colab_link": true
    },
    "kernelspec": {
      "name": "python3",
      "display_name": "Python 3"
    },
    "language_info": {
      "name": "python"
    }
  },
  "cells": [
    {
      "cell_type": "markdown",
      "metadata": {
        "id": "view-in-github",
        "colab_type": "text"
      },
      "source": [
        "<a href=\"https://colab.research.google.com/github/dkraynev/DayAfterDay/blob/main/005_Remove_unnessesary_columns_from_affiliates_list.ipynb\" target=\"_parent\"><img src=\"https://colab.research.google.com/assets/colab-badge.svg\" alt=\"Open In Colab\"/></a>"
      ]
    },
    {
      "cell_type": "code",
      "execution_count": null,
      "metadata": {
        "id": "eQU2_puROcJK"
      },
      "outputs": [],
      "source": [
        "import pandas as pd\n",
        "\n",
        "# Path to the source CSV file\n",
        "file_path = r'G:\\My Drive\\002\\005\\Affiliates_list.csv'\n",
        "\n",
        "# Read the dataset\n",
        "df = pd.read_csv(file_path)\n",
        "\n",
        "# List of columns to remove\n",
        "columns_to_remove = [\n",
        "    'AffiliateType_CE', 'CPA_CE', 'Revshare_CE', 'PeriodRevshare_CE',\n",
        "    'unifyBrand', 'PlanType', 'CPA_Parsed', 'Revshare_Parsed', 'RevsharePeriod'\n",
        "]\n",
        "\n",
        "# Remove the s"
      ]
    }
  ]
}