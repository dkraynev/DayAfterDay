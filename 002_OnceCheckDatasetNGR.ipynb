{
  "nbformat": 4,
  "nbformat_minor": 0,
  "metadata": {
    "colab": {
      "provenance": [],
      "authorship_tag": "ABX9TyPHpWs/SxPDY+GUUl0gc9cv",
      "include_colab_link": true
    },
    "kernelspec": {
      "name": "python3",
      "display_name": "Python 3"
    },
    "language_info": {
      "name": "python"
    }
  },
  "cells": [
    {
      "cell_type": "markdown",
      "metadata": {
        "id": "view-in-github",
        "colab_type": "text"
      },
      "source": [
        "<a href=\"https://colab.research.google.com/github/dkraynev/DayAfterDay/blob/main/002_OnceCheckDatasetNGR.ipynb\" target=\"_parent\"><img src=\"https://colab.research.google.com/assets/colab-badge.svg\" alt=\"Open In Colab\"/></a>"
      ]
    },
    {
      "cell_type": "code",
      "execution_count": 1,
      "metadata": {
        "id": "oUjs9HGvCapo"
      },
      "outputs": [],
      "source": [
        "import os\n",
        "import pandas as pd"
      ]
    },
    {
      "cell_type": "code",
      "source": [
        "# Point path to a local folder, where are csv files\n",
        "current_dir = r'G:\\My Drive\\001\\Datasets\\NGR'\n",
        "\n",
        "# Collect list of all *.csv files in folder\n",
        "\n",
        "csv_files = [f for f in os.listdir(current_dir) if f.lower().endswith(\".csv\")]\n"
      ],
      "metadata": {
        "id": "JdFkpYswC-HA"
      },
      "execution_count": 5,
      "outputs": []
    }
  ]
}